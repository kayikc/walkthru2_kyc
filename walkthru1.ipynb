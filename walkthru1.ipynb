{
 "cells": [
  {
   "cell_type": "markdown",
   "id": "3cf333ff-0c99-4e86-be15-16896de11560",
   "metadata": {},
   "source": [
    "# Walkthru sample for notebook"
   ]
  },
  {
   "cell_type": "markdown",
   "id": "cf13fa27-c21c-4e32-9ed5-2229a5140594",
   "metadata": {},
   "source": [
    "Here's how to calculate 1+1:"
   ]
  },
  {
   "cell_type": "code",
   "execution_count": 1,
   "id": "3474eb6b-7e3d-4b82-9f07-a441d8cb2396",
   "metadata": {},
   "outputs": [
    {
     "data": {
      "text/plain": [
       "2"
      ]
     },
     "execution_count": 1,
     "metadata": {},
     "output_type": "execute_result"
    }
   ],
   "source": [
    "1+1 "
   ]
  },
  {
   "cell_type": "code",
   "execution_count": 2,
   "id": "18d33c1a-9ab4-4877-9fac-56d3682d5161",
   "metadata": {},
   "outputs": [],
   "source": [
    "from numpy import *"
   ]
  },
  {
   "cell_type": "code",
   "execution_count": 5,
   "id": "b18fbf4f-6cb4-4ce7-aae6-cfff6995ee00",
   "metadata": {},
   "outputs": [
    {
     "data": {
      "text/plain": [
       "array([0.84147098, 1.        ])"
      ]
     },
     "execution_count": 5,
     "metadata": {},
     "output_type": "execute_result"
    }
   ],
   "source": [
    "a = array([1.0, pi/2])\n",
    "sin(a)"
   ]
  },
  {
   "cell_type": "code",
   "execution_count": null,
   "id": "12646274-ae1c-435e-9616-8a6b1c547bf8",
   "metadata": {},
   "outputs": [],
   "source": []
  }
 ],
 "metadata": {
  "kernelspec": {
   "display_name": "Python 3 (ipykernel)",
   "language": "python",
   "name": "python3"
  },
  "language_info": {
   "codemirror_mode": {
    "name": "ipython",
    "version": 3
   },
   "file_extension": ".py",
   "mimetype": "text/x-python",
   "name": "python",
   "nbconvert_exporter": "python",
   "pygments_lexer": "ipython3",
   "version": "3.12.7"
  }
 },
 "nbformat": 4,
 "nbformat_minor": 5
}
